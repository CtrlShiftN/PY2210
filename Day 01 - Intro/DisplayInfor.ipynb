{
 "cells": [
  {
   "cell_type": "markdown",
   "id": "2af3267f-e8f6-41d6-ab03-3464f2d4b569",
   "metadata": {},
   "source": [
    "# A simple way to print out personal details"
   ]
  },
  {
   "cell_type": "code",
   "execution_count": 1,
   "id": "eef0d8e6-3601-4ef5-bfd9-df5932848022",
   "metadata": {},
   "outputs": [
    {
     "name": "stdout",
     "output_type": "stream",
     "text": [
      "My name is Quyen\n",
      "I am 26 years old.\n",
      "My email: email@gmail.com\n",
      "Address: Vietnam\n"
     ]
    }
   ],
   "source": [
    "name = \"Quyen\"\n",
    "age = \"26\"\n",
    "email = \"email@gmail.com\"\n",
    "address = \"Vietnam\"\n",
    "print(\"My name is \"+name+\"\\nI am \"+age+\" years old.\\nMy email: \"+email+\"\\nAddress: \"+address)"
   ]
  },
  {
   "cell_type": "code",
   "execution_count": null,
   "id": "fca9737b-a3e7-4d40-8695-b8f0f846077d",
   "metadata": {},
   "outputs": [],
   "source": []
  }
 ],
 "metadata": {
  "kernelspec": {
   "display_name": "Python 3 (ipykernel)",
   "language": "python",
   "name": "python3"
  },
  "language_info": {
   "codemirror_mode": {
    "name": "ipython",
    "version": 3
   },
   "file_extension": ".py",
   "mimetype": "text/x-python",
   "name": "python",
   "nbconvert_exporter": "python",
   "pygments_lexer": "ipython3",
   "version": "3.11.0"
  }
 },
 "nbformat": 4,
 "nbformat_minor": 5
}
